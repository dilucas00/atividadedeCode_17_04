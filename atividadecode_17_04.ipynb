{
 "cells": [
  {
   "cell_type": "code",
   "execution_count": 19,
   "metadata": {},
   "outputs": [
    {
     "name": "stdout",
     "output_type": "stream",
     "text": [
      "=========== Tecnico ============\n",
      "Salário antigo: R$ 5000.0 \n",
      "Salário atual: R$ 6500.0 \n",
      "Ele teve um aumento de 30%\n",
      "O valor do aumento foi de : R$1500.0\n"
     ]
    }
   ],
   "source": [
    "cargo = str(input(\"Qual o seu cargo atual na empresa? \"))\n",
    "salario = float(input(\"Qual seu salario atual? \"))\n",
    "cargoGerentePorcentagem = 10\n",
    "cargoEngenheiroPorcentagem = 20\n",
    "cargoTecnicoPorcentagem = 30\n",
    "porcentagemOutroCargos = 40\n",
    "\n",
    "if cargo == (\"Gerente\"):\n",
    "    resultadoGerente = (cargoGerentePorcentagem / 100) * salario\n",
    "    print(f\"=========== {cargo} ============\")\n",
    "    print(f\"Salário antigo: R$ {salario}\",\"\\n\" f\"Salário atual: R$ {resultadoGerente + salario}\",\"\\n\" f\"Ele teve um aumento de {cargoGerentePorcentagem}%\")\n",
    "    print(f\"O valor do aumento foi de: R${resultadoGerente}\")\n",
    "\n",
    "elif cargo == (\"Engenheiro\"):\n",
    "    resultadoEngenheiro = (cargoEngenheiroPorcentagem / 100) * salario\n",
    "    print(f\"=========== {cargo} ============\")\n",
    "    print(f\"Salário antigo: R$ {salario}\",\"\\n\" f\"Salário atual: R$ {resultadoEngenheiro + salario}\",\"\\n\" f\"Ele teve um aumento de: {cargoEngenheiroPorcentagem}%\")\n",
    "    print(f\"O valor do aumento foi de: R${resultadoEngenheiro}\")\n",
    "\n",
    "elif cargo == (\"Técnico\"):\n",
    "    resultadoTecnico = (cargoTecnicoPorcentagem / 100) * salario\n",
    "    print(f\"=========== {cargo} ============\")\n",
    "    print(f\"Salário antigo: R$ {salario}\",\"\\n\" f\"Salário atual: R$ {resultadoTecnico + salario}\",\"\\n\" f\"Ele teve um aumento de {cargoTecnicoPorcentagem}%\")\n",
    "    print(f\"O valor do aumento foi de : R${resultadoTecnico}\")\n",
    "\n",
    "else:\n",
    "    resultadoOutro = (porcentagemOutroCargos / 100) * salario\n",
    "    print(f\"Salário antigo: R$ {salario}\",\"\\n\" f\"Salário atual: R$ {resultadoOutro + salario}\",\"\\n\" f\"Ele teve um aumento de {porcentagemOutroCargos}%\")\n",
    "    print(f\"O valor do aumento foi de : R${resultadoOutro}\")\n",
    "    \n"
   ]
  },
  {
   "cell_type": "code",
   "execution_count": null,
   "metadata": {},
   "outputs": [],
   "source": []
  }
 ],
 "metadata": {
  "kernelspec": {
   "display_name": "Python 3",
   "language": "python",
   "name": "python3"
  },
  "language_info": {
   "codemirror_mode": {
    "name": "ipython",
    "version": 3
   },
   "file_extension": ".py",
   "mimetype": "text/x-python",
   "name": "python",
   "nbconvert_exporter": "python",
   "pygments_lexer": "ipython3",
   "version": "3.12.2"
  }
 },
 "nbformat": 4,
 "nbformat_minor": 2
}
